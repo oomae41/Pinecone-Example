{
 "cells": [
  {
   "cell_type": "code",
   "execution_count": 1,
   "metadata": {},
   "outputs": [
    {
     "name": "stderr",
     "output_type": "stream",
     "text": [
      "/opt/homebrew/Caskroom/miniforge/base/envs/vectordb/lib/python3.10/site-packages/pinecone/data/index.py:1: TqdmWarning: IProgress not found. Please update jupyter and ipywidgets. See https://ipywidgets.readthedocs.io/en/stable/user_install.html\n",
      "  from tqdm.autonotebook import tqdm\n"
     ]
    }
   ],
   "source": [
    "# Pineconeの初期化\n",
    "from pinecone import Pinecone, PodSpec\n",
    "pc = Pinecone(api_key='1a0e3dd8-12dd-42cc-92ef-16e20a38cb4b')"
   ]
  },
  {
   "cell_type": "code",
   "execution_count": 2,
   "metadata": {},
   "outputs": [],
   "source": [
    "# インデックスの作成\n",
    "# コサイン類似度のインデックスを作成\n",
    "pc.create_index(\n",
    "    name=\"command-test-cosine\", \n",
    "    dimension=3, \n",
    "    metric=\"cosine\",\n",
    "    spec=PodSpec(\n",
    "        environment='gcp-starter', \n",
    "        pod_type='starter'\n",
    "    )\n",
    ")"
   ]
  },
  {
   "cell_type": "code",
   "execution_count": 4,
   "metadata": {},
   "outputs": [],
   "source": [
    "# インデックスに接続\n",
    "index = pc.Index(name=\"command-test-cosine\")"
   ]
  },
  {
   "cell_type": "code",
   "execution_count": 5,
   "metadata": {},
   "outputs": [
    {
     "data": {
      "text/plain": [
       "{'upserted_count': 4}"
      ]
     },
     "execution_count": 5,
     "metadata": {},
     "output_type": "execute_result"
    }
   ],
   "source": [
    "# データの挿入（float）\n",
    "index.upsert([\n",
    "    (\"X\", [1.0, 0.0, 0.0]),\n",
    "    (\"Y\", [0.0, 1.0, 0.0]),\n",
    "    (\"Z\", [0.0, 0.0, 1.0]),\n",
    "    (\"A\", [1.0, 1.0, 1.0])\n",
    "])"
   ]
  },
  {
   "cell_type": "code",
   "execution_count": 6,
   "metadata": {},
   "outputs": [
    {
     "data": {
      "text/plain": [
       "{}"
      ]
     },
     "execution_count": 6,
     "metadata": {},
     "output_type": "execute_result"
    }
   ],
   "source": [
    "# データの削除\n",
    "index.delete([\"A\"])"
   ]
  },
  {
   "cell_type": "code",
   "execution_count": 8,
   "metadata": {},
   "outputs": [
    {
     "data": {
      "text/plain": [
       "{'dimension': 3,\n",
       " 'index_fullness': 3e-05,\n",
       " 'namespaces': {'': {'vector_count': 3}},\n",
       " 'total_vector_count': 3}"
      ]
     },
     "execution_count": 8,
     "metadata": {},
     "output_type": "execute_result"
    }
   ],
   "source": [
    "# インデックスの確認\n",
    "index.describe_index_stats()"
   ]
  },
  {
   "cell_type": "code",
   "execution_count": 9,
   "metadata": {},
   "outputs": [
    {
     "data": {
      "text/plain": [
       "{'matches': [{'id': 'Y', 'score': 0.0, 'values': [0.0, 1.0, 0.0]},\n",
       "             {'id': 'Z', 'score': 0.0, 'values': [0.0, 0.0, 1.0]},\n",
       "             {'id': 'X', 'score': 0.0, 'values': [1.0, 0.0, 0.0]}],\n",
       " 'namespace': '',\n",
       " 'usage': {'read_units': 6}}"
      ]
     },
     "execution_count": 9,
     "metadata": {},
     "output_type": "execute_result"
    }
   ],
   "source": [
    "# ベクトルの取得\n",
    "# 原点をリクエスト\n",
    "index.query(\n",
    "    vector=[0.0, 0.0, 0.0],\n",
    "    top_k=3,\n",
    "    include_values=True\n",
    ")"
   ]
  },
  {
   "cell_type": "code",
   "execution_count": 10,
   "metadata": {},
   "outputs": [
    {
     "data": {
      "text/plain": [
       "{'matches': [{'id': 'X', 'score': 1.0, 'values': [1.0, 0.0, 0.0]},\n",
       "             {'id': 'Z', 'score': 0.0, 'values': [0.0, 0.0, 1.0]},\n",
       "             {'id': 'Y', 'score': 0.0, 'values': [0.0, 1.0, 0.0]}],\n",
       " 'namespace': '',\n",
       " 'usage': {'read_units': 6}}"
      ]
     },
     "execution_count": 10,
     "metadata": {},
     "output_type": "execute_result"
    }
   ],
   "source": [
    "# ベクトルの取得\n",
    "# (1, 0, 0)をリクエスト\n",
    "index.query(\n",
    "    vector=[1.0, 0.0, 0.0],\n",
    "    top_k=3,\n",
    "    include_values=True\n",
    ")"
   ]
  },
  {
   "cell_type": "code",
   "execution_count": 11,
   "metadata": {},
   "outputs": [
    {
     "data": {
      "text/plain": [
       "{'matches': [{'id': 'Y', 'score': 0.707106769, 'values': [0.0, 1.0, 0.0]},\n",
       "             {'id': 'X', 'score': 0.707106769, 'values': [1.0, 0.0, 0.0]},\n",
       "             {'id': 'Z', 'score': 0.0, 'values': [0.0, 0.0, 1.0]}],\n",
       " 'namespace': '',\n",
       " 'usage': {'read_units': 6}}"
      ]
     },
     "execution_count": 11,
     "metadata": {},
     "output_type": "execute_result"
    }
   ],
   "source": [
    "# ベクトルの取得\n",
    "# (1, 1, 0)をリクエスト\n",
    "index.query(\n",
    "    vector=[1.0, 1.0, 0.0],\n",
    "    top_k=3,\n",
    "    include_values=True\n",
    ")"
   ]
  },
  {
   "cell_type": "code",
   "execution_count": 12,
   "metadata": {},
   "outputs": [
    {
     "data": {
      "text/plain": [
       "{'matches': [{'id': 'Y', 'score': 0.0, 'values': [0.0, 1.0, 0.0]},\n",
       "             {'id': 'Z', 'score': 0.0, 'values': [0.0, 0.0, 1.0]},\n",
       "             {'id': 'X', 'score': -1.0, 'values': [1.0, 0.0, 0.0]}],\n",
       " 'namespace': '',\n",
       " 'usage': {'read_units': 6}}"
      ]
     },
     "execution_count": 12,
     "metadata": {},
     "output_type": "execute_result"
    }
   ],
   "source": [
    "# ベクトルの取得\n",
    "# (-1, 0, 0)をリクエスト\n",
    "index.query(\n",
    "    vector=[-1.0, 0.0, 0.0],\n",
    "    top_k=3,\n",
    "    include_values=True\n",
    ")"
   ]
  },
  {
   "cell_type": "code",
   "execution_count": 13,
   "metadata": {},
   "outputs": [],
   "source": [
    "# インデックスの削除\n",
    "pc.delete_index(\"command-test-cosine\")"
   ]
  },
  {
   "cell_type": "code",
   "execution_count": null,
   "metadata": {},
   "outputs": [],
   "source": []
  }
 ],
 "metadata": {
  "kernelspec": {
   "display_name": "vectordb",
   "language": "python",
   "name": "python3"
  },
  "language_info": {
   "codemirror_mode": {
    "name": "ipython",
    "version": 3
   },
   "file_extension": ".py",
   "mimetype": "text/x-python",
   "name": "python",
   "nbconvert_exporter": "python",
   "pygments_lexer": "ipython3",
   "version": "3.10.0"
  }
 },
 "nbformat": 4,
 "nbformat_minor": 2
}
